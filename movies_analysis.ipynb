{
 "cells": [
  {
   "cell_type": "code",
   "execution_count": 1,
   "metadata": {},
   "outputs": [],
   "source": [
    "import pandas as pd\n",
    "import numpy as np\n",
    "import math\n",
    "from pandas import Series, DataFrame\n",
    "import matplotlib.pyplot as plt\n",
    "import matplotlib as mpl\n",
    "import seaborn as sns\n",
    "#import scipy as sp\n",
    "#from scipy import stats\n",
    "\n",
    "df = pd.read_csv('movies.csv')"
   ]
  },
  {
   "cell_type": "code",
   "execution_count": 2,
   "metadata": {},
   "outputs": [],
   "source": [
    "#removing unnecessary columns\n",
    "df.drop(['Unnamed: 0', 'Unnamed: 0.1', 'US Gross', 'US DVD Sales', 'MPAA Rating', 'Running Time (min)', 'Distributor', 'Source', 'Creative Type'], axis = 1, inplace = True)\n",
    "\n",
    "#renaming some columns\n",
    "df.rename(columns = {'Worldwide Gross' : 'Gross', 'Production Budget' : 'Budget', 'Release Date' : 'Date', 'Major Genre' : 'Genre', 'Rotten Tomatoes Rating' : 'RTRating', 'IMDB Rating' : 'IMDBRating', 'IMDB Votes' : 'IMDBVotes'}, inplace = True)"
   ]
  },
  {
   "cell_type": "code",
   "execution_count": 3,
   "metadata": {},
   "outputs": [],
   "source": [
    "#cropping unnecessary info from Date\n",
    "df.Date = df['Date'].str.rstrip()\n",
    "df.Date = df['Date'].str[-2:]"
   ]
  },
  {
   "cell_type": "code",
   "execution_count": 4,
   "metadata": {},
   "outputs": [],
   "source": [
    "#pruning unwanted rows from Date\n",
    "df = df[df['Date'].str.isdecimal() == True]\n",
    "\n",
    "#pruning unwanted rows from Gross\n",
    "df = df[df['Gross'] != 'Unknown']"
   ]
  },
  {
   "cell_type": "code",
   "execution_count": 5,
   "metadata": {},
   "outputs": [],
   "source": [
    "#fixing indices after pruning (starting from 1 instead of 0)\n",
    "df.index = np.arange(1, len(df) + 1)"
   ]
  },
  {
   "cell_type": "code",
   "execution_count": 6,
   "metadata": {},
   "outputs": [],
   "source": [
    "#fixing Date format\n",
    "df.Date = pd.to_numeric(df['Date'], errors = 'coerce')\n",
    "df.Date = df['Date'].map(\"{:02}\".format)\n",
    "df.Date = df['Date'].apply(lambda x:'20'+x if 0 <= int(x) <= 19 else '19'+x)\n",
    "df.Date = df['Date'].astype(int)"
   ]
  },
  {
   "cell_type": "code",
   "execution_count": 7,
   "metadata": {},
   "outputs": [],
   "source": [
    "#converting Gross from str to float\n",
    "df.Gross = df['Gross'].astype(float)"
   ]
  },
  {
   "cell_type": "code",
   "execution_count": 8,
   "metadata": {},
   "outputs": [],
   "source": [
    "#fixing scale climax on RTRating\n",
    "df.RTRating = df['RTRating'].apply(lambda x: x/10)"
   ]
  },
  {
   "cell_type": "code",
   "execution_count": 9,
   "metadata": {},
   "outputs": [],
   "source": [
    "#making a genres Dataframe splitting the column to 2 (links movies ID's with the genres) \n",
    "#helpful \n",
    "genres_df = df['Genre'].dropna()\n",
    "genres_df = genres_df.str.split('/', expand = True)\n",
    "genres_df.columns = ['First', 'Second']\n",
    "\n",
    "second_genre_df = genres_df['Second'].dropna()\n"
   ]
  },
  {
   "cell_type": "code",
   "execution_count": 10,
   "metadata": {},
   "outputs": [
    {
     "name": "stdout",
     "output_type": "stream",
     "text": [
      "{'Drama': 789, 'Comedy': 674, 'Musical': 53, 'Thriller': 239, 'Adventure': 274, 'Action': 420, 'Romantic Comedy': 137, 'Horror': 219, 'Western': 36, 'Documentary': 43, 'Black Comedy': 36, 'Concert': 5, 'Suspense': 239, 'Performance': 5}\n"
     ]
    }
   ],
   "source": [
    "#constructing a dictionary for Genre (key = genre : value = number of movies)\n",
    "genres_hash = {}\n",
    "\n",
    "for i in genres_df['First']:\n",
    "\n",
    "    if i not in genres_hash:\n",
    "\n",
    "        genres_hash[i] = 1\n",
    "\n",
    "    else:\n",
    "\n",
    "        genres_hash[i] += 1\n",
    "\n",
    "\n",
    "for i in second_genre_df:\n",
    "\n",
    "    if i not in genres_hash:\n",
    "\n",
    "        genres_hash[i] = 1\n",
    "\n",
    "    else:\n",
    "\n",
    "        genres_hash[i] += 1\n",
    "        \n",
    "\n",
    "        \n",
    "print(genres_hash)\n"
   ]
  },
  {
   "cell_type": "code",
   "execution_count": 11,
   "metadata": {},
   "outputs": [
    {
     "name": "stdout",
     "output_type": "stream",
     "text": [
      "                 Number of Movies\n",
      "Drama                         789\n",
      "Comedy                        674\n",
      "Musical                        53\n",
      "Thriller                      239\n",
      "Adventure                     274\n",
      "Action                        420\n",
      "Romantic Comedy               137\n",
      "Horror                        219\n",
      "Western                        36\n",
      "Documentary                    43\n",
      "Black Comedy                   36\n",
      "Concert                         5\n",
      "Suspense                      239\n",
      "Performance                     5\n"
     ]
    }
   ],
   "source": [
    "genre_numbers_df = pd.DataFrame.from_dict(genres_hash, orient='index')\n",
    "genre_numbers_df.columns = ['Number of Movies']\n",
    "print(genre_numbers_df)"
   ]
  },
  {
   "cell_type": "code",
   "execution_count": 12,
   "metadata": {},
   "outputs": [
    {
     "name": "stdout",
     "output_type": "stream",
     "text": [
      "                           Title        Gross      Budget  Date  \\\n",
      "1                 The Land Girls     146083.0   8000000.0  1998   \n",
      "2         First Love, Last Rites      10876.0    300000.0  1998   \n",
      "3     I Married a Strange Person     203134.0    250000.0  1998   \n",
      "4           Let's Talk About Sex     373615.0    300000.0  1998   \n",
      "5                           Slam    1087521.0   1000000.0  1998   \n",
      "...                          ...          ...         ...   ...   \n",
      "3183  Zack and Miri Make a Porno   36851125.0  24000000.0  2008   \n",
      "3184                      Zodiac   83080084.0  85000000.0  2007   \n",
      "3185                        Zoom   12506188.0  35000000.0  2006   \n",
      "3186         The Legend of Zorro  141475336.0  80000000.0  2005   \n",
      "3187           The Mask of Zorro  233700000.0  65000000.0  1998   \n",
      "\n",
      "                  Genre         Director  RTRating  IMDBRating  IMDBVotes  \n",
      "1                   NaN              NaN       NaN         6.1     1071.0  \n",
      "2                 Drama              NaN       NaN         6.9      207.0  \n",
      "3                Comedy              NaN       NaN         6.8      865.0  \n",
      "4                Comedy              NaN       1.3         NaN        NaN  \n",
      "5                 Drama              NaN       6.2         3.4      165.0  \n",
      "...                 ...              ...       ...         ...        ...  \n",
      "3183             Comedy      Kevin Smith       6.5         7.0    55687.0  \n",
      "3184  Thriller/Suspense    David Fincher       8.9         NaN        NaN  \n",
      "3185          Adventure     Peter Hewitt       0.3         3.4     7424.0  \n",
      "3186          Adventure  Martin Campbell       2.6         5.7    21161.0  \n",
      "3187          Adventure  Martin Campbell       8.2         6.7     4789.0  \n",
      "\n",
      "[3187 rows x 9 columns]\n"
     ]
    }
   ],
   "source": [
    "#to csv\n",
    "df.to_csv('cleandata_movies.csv', index_label = 'ID')\n",
    "print(df)"
   ]
  },
  {
   "cell_type": "code",
   "execution_count": 13,
   "metadata": {},
   "outputs": [
    {
     "data": {
      "image/png": "[encoded data removed]",
      "text/plain": [
       "<Figure size 432x288 with 1 Axes>"
      ]
     },
     "metadata": {},
     "output_type": "display_data"
    }
   ],
   "source": [
    "#making Worldwide Gross histogram\n",
    "sns.set_context('paper')\n",
    "sns.set_style('white')\n",
    "\n",
    "sns.distplot(df['Gross']/1000000, kde=False, color='darkgreen', bins=80)\n",
    "plt.ylim(0,1700)\n",
    "plt.xlim(0,600)\n",
    "plt.title('Worldwide Gross', color='darkgreen', fontsize=18)\n",
    "plt.xlabel('Millions', fontsize=14)\n",
    "plt.ylabel('Number of Movies', fontsize=14)\n",
    "plt.savefig('WorldwideGross_Histogram.png')"
   ]
  },
  {
   "cell_type": "code",
   "execution_count": 14,
   "metadata": {},
   "outputs": [
    {
     "data": {
      "image/png": "[encoded data removed]",
      "text/plain": [
       "<Figure size 432x288 with 1 Axes>"
      ]
     },
     "metadata": {},
     "output_type": "display_data"
    }
   ],
   "source": [
    "#making Rotten Tomatoes Rating histogram\n",
    "rtr_df = df['RTRating'].dropna()\n",
    "\n",
    "sns.distplot(rtr_df, kde=False, color='darkred', bins=10)\n",
    "plt.title('Rotten Tomatoes Rating',color='darkred', fontsize=18)\n",
    "plt.xlabel('Rating', fontsize=14)\n",
    "plt.ylabel('Number of Movies', fontsize=14)\n",
    "\n",
    "plt.savefig('RottenTomatoesRating_Histogram.png')"
   ]
  },
  {
   "cell_type": "code",
   "execution_count": 15,
   "metadata": {
    "scrolled": true
   },
   "outputs": [
    {
     "data": {
      "image/png": "[encoded data removed]",
      "text/plain": [
       "<Figure size 432x288 with 1 Axes>"
      ]
     },
     "metadata": {},
     "output_type": "display_data"
    }
   ],
   "source": [
    "#making IMDB Rating histogram\n",
    "imdbr_df = df['IMDBRating'].dropna()\n",
    "\n",
    "sns.distplot(imdbr_df, kde=False, color='goldenrod', bins=8)\n",
    "plt.xlim(0, 10)\n",
    "plt.title('IMDB Rating',color='goldenrod', fontsize=18)\n",
    "plt.xlabel('Rating', fontsize=14)\n",
    "plt.ylabel('Number of Movies', fontsize=14)\n",
    "\n",
    "plt.savefig('IMDBRating_Histogram.png')"
   ]
  },
  {
   "cell_type": "code",
   "execution_count": 16,
   "metadata": {},
   "outputs": [
    {
     "data": {
      "image/png": "[encoded data removed]",
      "text/plain": [
       "<Figure size 432x288 with 1 Axes>"
      ]
     },
     "metadata": {},
     "output_type": "display_data"
    }
   ],
   "source": [
    "#making IMDB Votes histogram\n",
    "imdbv_df = df['IMDBVotes'].dropna()\n",
    "\n",
    "sns.distplot(imdbv_df, kde=False, color='black', bins=25)\n",
    "plt.title('IMDB Votes',color='black', fontsize=18)\n",
    "plt.xlabel('Number of Votes', fontsize=14)\n",
    "plt.ylabel('Number of Movies', fontsize=14)\n",
    "\n",
    "plt.savefig('IMDBVotes_Histogram.png')"
   ]
  },
  {
   "cell_type": "code",
   "execution_count": null,
   "metadata": {},
   "outputs": [],
   "source": []
  },
  {
   "cell_type": "code",
   "execution_count": null,
   "metadata": {},
   "outputs": [],
   "source": []
  }
 ],
 "metadata": {
  "kernelspec": {
   "display_name": "Python 3",
   "language": "python",
   "name": "python3"
  },
  "language_info": {
   "codemirror_mode": {
    "name": "ipython",
    "version": 3
   },
   "file_extension": ".py",
   "mimetype": "text/x-python",
   "name": "python",
   "nbconvert_exporter": "python",
   "pygments_lexer": "ipython3",
   "version": "3.7.4"
  }
 },
 "nbformat": 4,
 "nbformat_minor": 2
}
