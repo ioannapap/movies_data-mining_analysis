{
 "cells": [
  {
   "cell_type": "code",
   "execution_count": 151,
   "metadata": {
    "scrolled": true
   },
   "outputs": [
    {
     "name": "stdout",
     "output_type": "stream",
     "text": [
      "                           Title      Gross      Budget  Date  \\\n",
      "1                 The Land Girls     146083   8000000.0  1998   \n",
      "2         First Love, Last Rites      10876    300000.0  1998   \n",
      "3     I Married a Strange Person     203134    250000.0  1998   \n",
      "4           Let's Talk About Sex     373615    300000.0  1998   \n",
      "5                           Slam    1087521   1000000.0  1998   \n",
      "...                          ...        ...         ...   ...   \n",
      "3183  Zack and Miri Make a Porno   36851125  24000000.0  2008   \n",
      "3184                      Zodiac   83080084  85000000.0  2007   \n",
      "3185                        Zoom   12506188  35000000.0  2006   \n",
      "3186         The Legend of Zorro  141475336  80000000.0  2005   \n",
      "3187           The Mask of Zorro  233700000  65000000.0  1998   \n",
      "\n",
      "                  Genre         Director  RTRating  IMDBRating  IMDBVotes  \n",
      "1                   NaN              NaN       NaN         6.1     1071.0  \n",
      "2                 Drama              NaN       NaN         6.9      207.0  \n",
      "3                Comedy              NaN       NaN         6.8      865.0  \n",
      "4                Comedy              NaN       1.3         NaN        NaN  \n",
      "5                 Drama              NaN       6.2         3.4      165.0  \n",
      "...                 ...              ...       ...         ...        ...  \n",
      "3183             Comedy      Kevin Smith       6.5         7.0    55687.0  \n",
      "3184  Thriller/Suspense    David Fincher       8.9         NaN        NaN  \n",
      "3185          Adventure     Peter Hewitt       0.3         3.4     7424.0  \n",
      "3186          Adventure  Martin Campbell       2.6         5.7    21161.0  \n",
      "3187          Adventure  Martin Campbell       8.2         6.7     4789.0  \n",
      "\n",
      "[3187 rows x 9 columns]\n"
     ]
    }
   ],
   "source": [
    "import pandas as pd\n",
    "import numpy as np\n",
    "\n",
    "df = pd.read_csv('movies.csv')\n",
    "\n",
    "#removing unnecessary columns\n",
    "df.drop(['Unnamed: 0', 'Unnamed: 0.1', 'US Gross', 'US DVD Sales', 'MPAA Rating', 'Running Time (min)', 'Distributor', 'Source', 'Creative Type'], axis = 1, inplace = True)\n",
    "\n",
    "#renaming some columns\n",
    "df.rename(columns = {'Worldwide Gross' : 'Gross', 'Production Budget' : 'Budget', 'Release Date' : 'Date', 'Major Genre' : 'Genre', 'Rotten Tomatoes Rating' : 'RTRating', 'IMDB Rating' : 'IMDBRating', 'IMDB Votes' : 'IMDBVotes'}, inplace = True)\n",
    "\n",
    "#cropping unnecessary info from Date\n",
    "df.Date = df['Date'].str.rstrip()\n",
    "df.Date = df['Date'].str[-2:]\n",
    "\n",
    "#pruning unwanted rows from Date\n",
    "df = df[df['Date'].str.isdecimal() == True]\n",
    "\n",
    "#pruning unwanted rows from Gross\n",
    "df = df[df['Gross'] != 'Unknown']\n",
    "\n",
    "#fixing indices after pruning (starting from 1 instead of 0)\n",
    "df.index = np.arange(1, len(df) + 1)\n",
    "\n",
    "#fixing Date format\n",
    "df.Date = pd.to_numeric(df['Date'], errors = 'coerce')\n",
    "df.Date = df['Date'].map(\"{:02}\".format)\n",
    "df.Date = df['Date'].apply(lambda x:'20'+x if 0 <= int(x) <= 19 else '19'+x)\n",
    "df.Date = df['Date'].astype(int)\n",
    "\n",
    "#converting Gross from str to int\n",
    "df.Gross = df['Gross'].astype(int)\n",
    "\n",
    "#fixing scale climax on RTRating\n",
    "df.RTRating = df['RTRating'].apply(lambda x: x/10)\n",
    "\n",
    "#to csv\n",
    "df.to_csv('cleandata_movies.csv', index_label = 'ID')\n",
    "\n",
    "print(df)"
   ]
  },
  {
   "cell_type": "code",
   "execution_count": null,
   "metadata": {},
   "outputs": [],
   "source": [
    "import pandas as pd\n",
    "import numpy as np\n",
    "from pandas import Series, DataFrame\n",
    "import matplotlib.pyplot as plt\n",
    "import matplotlib as mpl\n",
    "import seaborn as sns\n",
    "import scipy as sp\n",
    "from scipy import stats"
   ]
  },
  {
   "cell_type": "code",
   "execution_count": null,
   "metadata": {},
   "outputs": [],
   "source": []
  },
  {
   "cell_type": "code",
   "execution_count": null,
   "metadata": {},
   "outputs": [],
   "source": []
  }
 ],
 "metadata": {
  "kernelspec": {
   "display_name": "Python 3",
   "language": "python",
   "name": "python3"
  },
  "language_info": {
   "codemirror_mode": {
    "name": "ipython",
    "version": 3
   },
   "file_extension": ".py",
   "mimetype": "text/x-python",
   "name": "python",
   "nbconvert_exporter": "python",
   "pygments_lexer": "ipython3",
   "version": "3.7.4"
  }
 },
 "nbformat": 4,
 "nbformat_minor": 2
}
